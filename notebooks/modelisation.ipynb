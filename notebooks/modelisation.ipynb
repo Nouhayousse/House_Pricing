{
 "cells": [
  {
   "cell_type": "code",
   "id": "initial_id",
   "metadata": {
    "collapsed": true,
    "ExecuteTime": {
     "end_time": "2025-10-08T15:56:41.513855Z",
     "start_time": "2025-10-08T15:56:41.507456Z"
    }
   },
   "source": "print(\"Nouhaila lfenna\")",
   "outputs": [
    {
     "name": "stdout",
     "output_type": "stream",
     "text": [
      "Nouhaila lfenna\n"
     ]
    }
   ],
   "execution_count": 1
  },
  {
   "metadata": {
    "ExecuteTime": {
     "end_time": "2025-10-08T15:57:56.049021Z",
     "start_time": "2025-10-08T15:57:53.063748Z"
    }
   },
   "cell_type": "code",
   "source": [
    "import pandas as pd\n",
    "import numpy as np\n",
    "\n",
    "# read in all our data\n",
    "nfl_data = pd.read_csv(\"C:\\\\Users\\\\Clone\\\\PycharmProjects\\\\House_Pricing\\\\data\\\\raw\\\\house_prices_synthetic.csv\")"
   ],
   "id": "b75d135a58d954e2",
   "outputs": [],
   "execution_count": 2
  },
  {
   "metadata": {
    "ExecuteTime": {
     "end_time": "2025-10-08T15:58:43.094704Z",
     "start_time": "2025-10-08T15:58:43.078409Z"
    }
   },
   "cell_type": "code",
   "source": "nfl_data.head()",
   "id": "28681f3e5d68a16",
   "outputs": [
    {
     "data": {
      "text/plain": [
       "   Surface_m2  Nb_Chambres  Nb_Salles_de_Bain  Quartier  Age_Maison    Prix\n",
       "0         142            5                  3  Campagne          25  536055\n",
       "1         132            3                  2    Centre          36  500890\n",
       "2          54            4                  1    Centre          25  303540\n",
       "3         146            3                  3    Centre          22  601051\n",
       "4         111            3                  3    Centre           8  481240"
      ],
      "text/html": [
       "<div>\n",
       "<style scoped>\n",
       "    .dataframe tbody tr th:only-of-type {\n",
       "        vertical-align: middle;\n",
       "    }\n",
       "\n",
       "    .dataframe tbody tr th {\n",
       "        vertical-align: top;\n",
       "    }\n",
       "\n",
       "    .dataframe thead th {\n",
       "        text-align: right;\n",
       "    }\n",
       "</style>\n",
       "<table border=\"1\" class=\"dataframe\">\n",
       "  <thead>\n",
       "    <tr style=\"text-align: right;\">\n",
       "      <th></th>\n",
       "      <th>Surface_m2</th>\n",
       "      <th>Nb_Chambres</th>\n",
       "      <th>Nb_Salles_de_Bain</th>\n",
       "      <th>Quartier</th>\n",
       "      <th>Age_Maison</th>\n",
       "      <th>Prix</th>\n",
       "    </tr>\n",
       "  </thead>\n",
       "  <tbody>\n",
       "    <tr>\n",
       "      <th>0</th>\n",
       "      <td>142</td>\n",
       "      <td>5</td>\n",
       "      <td>3</td>\n",
       "      <td>Campagne</td>\n",
       "      <td>25</td>\n",
       "      <td>536055</td>\n",
       "    </tr>\n",
       "    <tr>\n",
       "      <th>1</th>\n",
       "      <td>132</td>\n",
       "      <td>3</td>\n",
       "      <td>2</td>\n",
       "      <td>Centre</td>\n",
       "      <td>36</td>\n",
       "      <td>500890</td>\n",
       "    </tr>\n",
       "    <tr>\n",
       "      <th>2</th>\n",
       "      <td>54</td>\n",
       "      <td>4</td>\n",
       "      <td>1</td>\n",
       "      <td>Centre</td>\n",
       "      <td>25</td>\n",
       "      <td>303540</td>\n",
       "    </tr>\n",
       "    <tr>\n",
       "      <th>3</th>\n",
       "      <td>146</td>\n",
       "      <td>3</td>\n",
       "      <td>3</td>\n",
       "      <td>Centre</td>\n",
       "      <td>22</td>\n",
       "      <td>601051</td>\n",
       "    </tr>\n",
       "    <tr>\n",
       "      <th>4</th>\n",
       "      <td>111</td>\n",
       "      <td>3</td>\n",
       "      <td>3</td>\n",
       "      <td>Centre</td>\n",
       "      <td>8</td>\n",
       "      <td>481240</td>\n",
       "    </tr>\n",
       "  </tbody>\n",
       "</table>\n",
       "</div>"
      ]
     },
     "execution_count": 3,
     "metadata": {},
     "output_type": "execute_result"
    }
   ],
   "execution_count": 3
  },
  {
   "metadata": {
    "ExecuteTime": {
     "end_time": "2025-10-08T16:09:15.185988Z",
     "start_time": "2025-10-08T16:09:15.179766Z"
    }
   },
   "cell_type": "code",
   "source": "print(\"Shape:\", nfl_data.shape)",
   "id": "1b3119a83144c612",
   "outputs": [
    {
     "name": "stdout",
     "output_type": "stream",
     "text": [
      "Shape: (100, 6)\n"
     ]
    }
   ],
   "execution_count": 4
  },
  {
   "metadata": {
    "ExecuteTime": {
     "end_time": "2025-10-08T16:09:47.573814Z",
     "start_time": "2025-10-08T16:09:47.563424Z"
    }
   },
   "cell_type": "code",
   "source": "print(nfl_data.info())",
   "id": "aa07850df67bd399",
   "outputs": [
    {
     "name": "stdout",
     "output_type": "stream",
     "text": [
      "<class 'pandas.core.frame.DataFrame'>\n",
      "RangeIndex: 100 entries, 0 to 99\n",
      "Data columns (total 6 columns):\n",
      " #   Column             Non-Null Count  Dtype \n",
      "---  ------             --------------  ----- \n",
      " 0   Surface_m2         100 non-null    int64 \n",
      " 1   Nb_Chambres        100 non-null    int64 \n",
      " 2   Nb_Salles_de_Bain  100 non-null    int64 \n",
      " 3   Quartier           100 non-null    object\n",
      " 4   Age_Maison         100 non-null    int64 \n",
      " 5   Prix               100 non-null    int64 \n",
      "dtypes: int64(5), object(1)\n",
      "memory usage: 4.8+ KB\n",
      "None\n"
     ]
    }
   ],
   "execution_count": 5
  },
  {
   "metadata": {
    "ExecuteTime": {
     "end_time": "2025-10-08T16:10:23.161693Z",
     "start_time": "2025-10-08T16:10:23.143847Z"
    }
   },
   "cell_type": "code",
   "source": "print(nfl_data.describe())",
   "id": "c5abd032790fce1a",
   "outputs": [
    {
     "name": "stdout",
     "output_type": "stream",
     "text": [
      "       Surface_m2  Nb_Chambres  Nb_Salles_de_Bain  Age_Maison           Prix\n",
      "count  100.000000   100.000000         100.000000  100.000000     100.000000\n",
      "mean   113.140000     2.920000           1.990000   23.900000  433887.980000\n",
      "std     44.949359     1.433228           0.834787   14.357274  143594.154884\n",
      "min     41.000000     1.000000           1.000000    0.000000  137587.000000\n",
      "25%     78.500000     1.750000           1.000000   11.000000  323166.000000\n",
      "50%    111.000000     3.000000           2.000000   25.000000  444686.000000\n",
      "75%    147.750000     4.000000           3.000000   34.250000  540801.000000\n",
      "max    197.000000     5.000000           3.000000   49.000000  769321.000000\n"
     ]
    }
   ],
   "execution_count": 6
  },
  {
   "metadata": {
    "ExecuteTime": {
     "end_time": "2025-10-08T16:11:55.116453Z",
     "start_time": "2025-10-08T16:11:55.108717Z"
    }
   },
   "cell_type": "code",
   "source": [
    "# Vérifier s'il y a des valeurs manquantes\n",
    "print(\"Valeurs manquantes par colonne :\")\n",
    "print(nfl_data.isnull().sum())"
   ],
   "id": "997b3c50d8abef1f",
   "outputs": [
    {
     "name": "stdout",
     "output_type": "stream",
     "text": [
      "Valeurs manquantes par colonne :\n",
      "Surface_m2           0\n",
      "Nb_Chambres          0\n",
      "Nb_Salles_de_Bain    0\n",
      "Quartier             0\n",
      "Age_Maison           0\n",
      "Prix                 0\n",
      "dtype: int64\n"
     ]
    }
   ],
   "execution_count": 7
  },
  {
   "metadata": {
    "ExecuteTime": {
     "end_time": "2025-10-08T16:16:47.416001Z",
     "start_time": "2025-10-08T16:16:47.402726Z"
    }
   },
   "cell_type": "code",
   "source": [
    "# Séparer les variables explicatives (X) et la variable cible (y)\n",
    "X = nfl_data.drop(columns=['Prix'])  # les colonnes utilisées pour prédire\n",
    "y = nfl_data['Prix']                 # la colonne à prédire\n",
    "\n",
    "print(\"Forme de X :\", X.shape)\n",
    "print(\"Forme de y :\", y.shape)\n"
   ],
   "id": "a64d428a06ca34b4",
   "outputs": [
    {
     "name": "stdout",
     "output_type": "stream",
     "text": [
      "Forme de X : (100, 5)\n",
      "Forme de y : (100,)\n"
     ]
    }
   ],
   "execution_count": 9
  },
  {
   "metadata": {
    "ExecuteTime": {
     "end_time": "2025-10-08T16:18:30.987826Z",
     "start_time": "2025-10-08T16:18:22.535496Z"
    }
   },
   "cell_type": "code",
   "source": [
    "from sklearn.model_selection import train_test_split\n",
    "\n",
    "# Découpage : 80% pour l'entraînement, 20% pour le test\n",
    "X_train, X_test, y_train, y_test = train_test_split(X, y, test_size=0.2, random_state=42)\n",
    "\n",
    "print(\"Taille du train :\", X_train.shape)\n",
    "print(\"Taille du test :\", X_test.shape)"
   ],
   "id": "4547e9ae8d2da236",
   "outputs": [
    {
     "name": "stdout",
     "output_type": "stream",
     "text": [
      "Taille du train : (80, 5)\n",
      "Taille du test : (20, 5)\n"
     ]
    }
   ],
   "execution_count": 10
  },
  {
   "metadata": {
    "ExecuteTime": {
     "end_time": "2025-10-08T16:54:33.272268Z",
     "start_time": "2025-10-08T16:54:33.266092Z"
    }
   },
   "cell_type": "code",
   "source": [
    "from sklearn.compose import ColumnTransformer\n",
    "from sklearn.preprocessing import StandardScaler, OneHotEncoder\n",
    "from sklearn.pipeline import Pipeline\n",
    "from sklearn.impute import SimpleImputer\n",
    "\n",
    "# Colonnes numériques et catégorielles\n",
    "numeric_features = ['Surface_m2', 'Nb_Chambres', 'Nb_Salles_de_Bain', 'Age_Maison']\n",
    "categorical_features = ['Quartier']\n",
    "\n",
    "# Étapes pour les variables numériques\n",
    "numeric_transformer = Pipeline(steps=[\n",
    "    ('imputer', SimpleImputer(strategy='median')),  # remplace les valeurs manquantes\n",
    "    ('scaler', StandardScaler())                    # met toutes les valeurs sur la même échelle\n",
    "])\n",
    "\n",
    "# Étapes pour les variables catégorielles\n",
    "categorical_transformer = Pipeline(steps=[\n",
    "    ('imputer', SimpleImputer(strategy='most_frequent')),  # remplace les valeurs manquantes par la plus fréquente\n",
    "    ('onehot', OneHotEncoder(handle_unknown='ignore'))     # transforme le texte en nombres\n",
    "])\n",
    "\n",
    "# Combine les deux transformations\n",
    "preprocessor = ColumnTransformer(\n",
    "    transformers=[\n",
    "        ('num', numeric_transformer, numeric_features),\n",
    "        ('cat', categorical_transformer, categorical_features)\n",
    "    ])\n"
   ],
   "id": "6acf4ace4ac937f7",
   "outputs": [],
   "execution_count": 12
  },
  {
   "metadata": {
    "ExecuteTime": {
     "end_time": "2025-10-08T16:54:41.652555Z",
     "start_time": "2025-10-08T16:54:41.610700Z"
    }
   },
   "cell_type": "code",
   "source": [
    "from sklearn.linear_model import LinearRegression\n",
    "from sklearn.pipeline import Pipeline\n",
    "\n",
    "# Créer un pipeline complet : préprocessing + modèle\n",
    "model_lr = Pipeline(steps=[\n",
    "    ('preprocessor', preprocessor),\n",
    "    ('regressor', LinearRegression())\n",
    "])\n",
    "\n",
    "# Entraîner le modèle sur les données d'entraînement\n",
    "model_lr.fit(X_train, y_train)\n",
    "\n",
    "print(\"✅ Modèle de régression linéaire entraîné avec succès !\")\n"
   ],
   "id": "567bdf15d4f690cf",
   "outputs": [
    {
     "name": "stdout",
     "output_type": "stream",
     "text": [
      "✅ Modèle de régression linéaire entraîné avec succès !\n"
     ]
    }
   ],
   "execution_count": 13
  },
  {
   "metadata": {
    "ExecuteTime": {
     "end_time": "2025-10-08T16:55:31.445962Z",
     "start_time": "2025-10-08T16:55:31.430099Z"
    }
   },
   "cell_type": "code",
   "source": [
    "# Prédire les prix sur le jeu de test\n",
    "y_pred_lr = model_lr.predict(X_test)\n",
    "\n",
    "# Afficher quelques exemples\n",
    "comparison = pd.DataFrame({'Prix_Réel': y_test.values[:10], 'Prix_Prédit': y_pred_lr[:10].astype(int)})\n",
    "comparison\n"
   ],
   "id": "7d77b109aef3b3ea",
   "outputs": [
    {
     "data": {
      "text/plain": [
       "   Prix_Réel  Prix_Prédit\n",
       "0     407249       410051\n",
       "1     332408       330229\n",
       "2     540861       554864\n",
       "3     348950       333167\n",
       "4     467182       466709\n",
       "5     631576       629606\n",
       "6     269715       274447\n",
       "7     538652       518897\n",
       "8     551746       601958\n",
       "9     536055       560425"
      ],
      "text/html": [
       "<div>\n",
       "<style scoped>\n",
       "    .dataframe tbody tr th:only-of-type {\n",
       "        vertical-align: middle;\n",
       "    }\n",
       "\n",
       "    .dataframe tbody tr th {\n",
       "        vertical-align: top;\n",
       "    }\n",
       "\n",
       "    .dataframe thead th {\n",
       "        text-align: right;\n",
       "    }\n",
       "</style>\n",
       "<table border=\"1\" class=\"dataframe\">\n",
       "  <thead>\n",
       "    <tr style=\"text-align: right;\">\n",
       "      <th></th>\n",
       "      <th>Prix_Réel</th>\n",
       "      <th>Prix_Prédit</th>\n",
       "    </tr>\n",
       "  </thead>\n",
       "  <tbody>\n",
       "    <tr>\n",
       "      <th>0</th>\n",
       "      <td>407249</td>\n",
       "      <td>410051</td>\n",
       "    </tr>\n",
       "    <tr>\n",
       "      <th>1</th>\n",
       "      <td>332408</td>\n",
       "      <td>330229</td>\n",
       "    </tr>\n",
       "    <tr>\n",
       "      <th>2</th>\n",
       "      <td>540861</td>\n",
       "      <td>554864</td>\n",
       "    </tr>\n",
       "    <tr>\n",
       "      <th>3</th>\n",
       "      <td>348950</td>\n",
       "      <td>333167</td>\n",
       "    </tr>\n",
       "    <tr>\n",
       "      <th>4</th>\n",
       "      <td>467182</td>\n",
       "      <td>466709</td>\n",
       "    </tr>\n",
       "    <tr>\n",
       "      <th>5</th>\n",
       "      <td>631576</td>\n",
       "      <td>629606</td>\n",
       "    </tr>\n",
       "    <tr>\n",
       "      <th>6</th>\n",
       "      <td>269715</td>\n",
       "      <td>274447</td>\n",
       "    </tr>\n",
       "    <tr>\n",
       "      <th>7</th>\n",
       "      <td>538652</td>\n",
       "      <td>518897</td>\n",
       "    </tr>\n",
       "    <tr>\n",
       "      <th>8</th>\n",
       "      <td>551746</td>\n",
       "      <td>601958</td>\n",
       "    </tr>\n",
       "    <tr>\n",
       "      <th>9</th>\n",
       "      <td>536055</td>\n",
       "      <td>560425</td>\n",
       "    </tr>\n",
       "  </tbody>\n",
       "</table>\n",
       "</div>"
      ]
     },
     "execution_count": 14,
     "metadata": {},
     "output_type": "execute_result"
    }
   ],
   "execution_count": 14
  },
  {
   "metadata": {
    "ExecuteTime": {
     "end_time": "2025-10-08T16:56:49.879853Z",
     "start_time": "2025-10-08T16:56:49.874045Z"
    }
   },
   "cell_type": "code",
   "source": [
    "from sklearn.metrics import mean_absolute_error, mean_squared_error, r2_score\n",
    "import numpy as np\n",
    "\n",
    "# Calcul des métriques\n",
    "mae = mean_absolute_error(y_test, y_pred_lr)\n",
    "rmse = np.sqrt(mean_squared_error(y_test, y_pred_lr))\n",
    "r2 = r2_score(y_test, y_pred_lr)\n",
    "\n",
    "print(f\"Erreur absolue moyenne (MAE): {mae:.2f}\")\n",
    "print(f\"Racine de l'erreur quadratique moyenne (RMSE): {rmse:.2f}\")\n",
    "print(f\"Coefficient de détermination (R²): {r2:.2f}\")\n"
   ],
   "id": "7ec093266f38b01d",
   "outputs": [
    {
     "name": "stdout",
     "output_type": "stream",
     "text": [
      "Erreur absolue moyenne (MAE): 16116.67\n",
      "Racine de l'erreur quadratique moyenne (RMSE): 21392.97\n",
      "Coefficient de détermination (R²): 0.97\n"
     ]
    }
   ],
   "execution_count": 16
  },
  {
   "metadata": {
    "ExecuteTime": {
     "end_time": "2025-10-08T17:00:56.665997Z",
     "start_time": "2025-10-08T17:00:56.657170Z"
    }
   },
   "cell_type": "code",
   "source": [
    "import pandas as pd\n",
    "\n",
    "# Créer un DataFrame pour analyser les erreurs\n",
    "errors = pd.DataFrame({\n",
    "    'y_test': y_test,\n",
    "    'y_pred': y_pred_lr\n",
    "})\n",
    "errors['residuals'] = errors['y_test'] - errors['y_pred']  # erreur brute\n",
    "errors['abs_residuals'] = errors['residuals'].abs()         # erreur absolue\n"
   ],
   "id": "cb4813bc36241fac",
   "outputs": [],
   "execution_count": 17
  },
  {
   "metadata": {
    "ExecuteTime": {
     "end_time": "2025-10-08T17:01:09.883666Z",
     "start_time": "2025-10-08T17:01:07.868434Z"
    }
   },
   "cell_type": "code",
   "source": [
    "import matplotlib.pyplot as plt\n",
    "\n",
    "plt.figure(figsize=(8,5))\n",
    "plt.hist(errors['residuals'], bins=50, color='skyblue', edgecolor='black')\n",
    "plt.title(\"Distribution des erreurs (résidus)\")\n",
    "plt.xlabel(\"Erreur (y_test - y_pred)\")\n",
    "plt.ylabel(\"Nombre de prédictions\")\n",
    "plt.show()\n"
   ],
   "id": "16cf347c75cb3718",
   "outputs": [
    {
     "data": {
      "text/plain": [
       "<Figure size 800x500 with 1 Axes>"
      ],
      "image/png": "[encoded data removed]"
     },
     "metadata": {},
     "output_type": "display_data"
    }
   ],
   "execution_count": 18
  },
  {
   "metadata": {
    "ExecuteTime": {
     "end_time": "2025-10-08T17:02:13.477550Z",
     "start_time": "2025-10-08T17:02:13.363614Z"
    }
   },
   "cell_type": "code",
   "source": [
    "plt.figure(figsize=(8,5))\n",
    "plt.scatter(errors['y_test'], errors['y_pred'], alpha=0.5)\n",
    "plt.plot([errors['y_test'].min(), errors['y_test'].max()],\n",
    "         [errors['y_test'].min(), errors['y_test'].max()],\n",
    "         color='red', linewidth=2)  # ligne y_test = y_pred\n",
    "plt.title(\"Valeurs réelles vs Prédites\")\n",
    "plt.xlabel(\"Valeurs réelles\")\n",
    "plt.ylabel(\"Valeurs prédites\")\n",
    "plt.show()\n"
   ],
   "id": "b05266174e0ea1af",
   "outputs": [
    {
     "data": {
      "text/plain": [
       "<Figure size 800x500 with 1 Axes>"
      ],
      "image/png": "[encoded data removed]"
     },
     "metadata": {},
     "output_type": "display_data"
    }
   ],
   "execution_count": 19
  },
  {
   "metadata": {
    "ExecuteTime": {
     "end_time": "2025-10-08T17:02:51.905831Z",
     "start_time": "2025-10-08T17:02:51.896413Z"
    }
   },
   "cell_type": "code",
   "source": [
    "# Top 10 des plus grosses erreurs absolues\n",
    "top_errors = errors.sort_values(by='abs_residuals', ascending=False).head(10)\n",
    "print(top_errors)\n"
   ],
   "id": "800c4f635d7e6805",
   "outputs": [
    {
     "name": "stdout",
     "output_type": "stream",
     "text": [
      "    y_test         y_pred     residuals  abs_residuals\n",
      "10  551746  601958.674146 -50212.674146   50212.674146\n",
      "76  620943  667703.510894 -46760.510894   46760.510894\n",
      "31  365066  396391.526183 -31325.526183   31325.526183\n",
      "73  769321  741414.931249  27906.068751   27906.068751\n",
      "0   536055  560425.714787 -24370.714787   24370.714787\n",
      "77  242180  220981.781558  21198.218442   21198.218442\n",
      "80  538652  518897.660629  19754.339371   19754.339371\n",
      "30  528098  510675.324853  17422.675147   17422.675147\n",
      "45  348950  333167.966729  15782.033271   15782.033271\n",
      "70  540861  554864.604449 -14003.604449   14003.604449\n"
     ]
    }
   ],
   "execution_count": 20
  }
 ],
 "metadata": {
  "kernelspec": {
   "display_name": "Python 3",
   "language": "python",
   "name": "python3"
  },
  "language_info": {
   "codemirror_mode": {
    "name": "ipython",
    "version": 2
   },
   "file_extension": ".py",
   "mimetype": "text/x-python",
   "name": "python",
   "nbconvert_exporter": "python",
   "pygments_lexer": "ipython2",
   "version": "2.7.6"
  }
 },
 "nbformat": 4,
 "nbformat_minor": 5
}
